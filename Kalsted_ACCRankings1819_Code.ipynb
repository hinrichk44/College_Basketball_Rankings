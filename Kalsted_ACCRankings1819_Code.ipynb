{
 "cells": [
  {
   "cell_type": "markdown",
   "metadata": {},
   "source": [
    "# Importing Basic Libraries"
   ]
  },
  {
   "cell_type": "code",
   "execution_count": 1,
   "metadata": {},
   "outputs": [],
   "source": [
    "import matplotlib.pyplot as plt\n",
    "import numpy as np\n",
    "import pandas as pd\n",
    "import seaborn as sns\n",
    "plt.style.use('fivethirtyeight')\n",
    "%matplotlib inline"
   ]
  },
  {
   "cell_type": "markdown",
   "metadata": {},
   "source": [
    "# Importing the Dataset"
   ]
  },
  {
   "cell_type": "code",
   "execution_count": 2,
   "metadata": {},
   "outputs": [],
   "source": [
    "assessment_3 = pd.read_csv(\"ACCGames1819.csv\")"
   ]
  },
  {
   "cell_type": "code",
   "execution_count": 3,
   "metadata": {},
   "outputs": [
    {
     "data": {
      "text/html": [
       "<div>\n",
       "<style scoped>\n",
       "    .dataframe tbody tr th:only-of-type {\n",
       "        vertical-align: middle;\n",
       "    }\n",
       "\n",
       "    .dataframe tbody tr th {\n",
       "        vertical-align: top;\n",
       "    }\n",
       "\n",
       "    .dataframe thead th {\n",
       "        text-align: right;\n",
       "    }\n",
       "</style>\n",
       "<table border=\"1\" class=\"dataframe\">\n",
       "  <thead>\n",
       "    <tr style=\"text-align: right;\">\n",
       "      <th></th>\n",
       "      <th>GameDate</th>\n",
       "      <th>NeutralSite</th>\n",
       "      <th>AwayTeam</th>\n",
       "      <th>AwayScore</th>\n",
       "      <th>AwayAST</th>\n",
       "      <th>AwayTOV</th>\n",
       "      <th>AwaySTL</th>\n",
       "      <th>AwayBLK</th>\n",
       "      <th>AwayRebounds</th>\n",
       "      <th>AwayORB</th>\n",
       "      <th>...</th>\n",
       "      <th>HomeRebounds</th>\n",
       "      <th>HomeORB</th>\n",
       "      <th>HomeDRB</th>\n",
       "      <th>HomeFGA</th>\n",
       "      <th>HomeFGM</th>\n",
       "      <th>Home3FGM</th>\n",
       "      <th>Home3FGA</th>\n",
       "      <th>HomeFTA</th>\n",
       "      <th>HomeFTM</th>\n",
       "      <th>HomeFouls</th>\n",
       "    </tr>\n",
       "  </thead>\n",
       "  <tbody>\n",
       "    <tr>\n",
       "      <th>0</th>\n",
       "      <td>1/1/2019 13:00</td>\n",
       "      <td>0</td>\n",
       "      <td>Notre Dame Fighting Irish</td>\n",
       "      <td>66</td>\n",
       "      <td>13</td>\n",
       "      <td>11</td>\n",
       "      <td>2</td>\n",
       "      <td>5</td>\n",
       "      <td>30</td>\n",
       "      <td>13</td>\n",
       "      <td>...</td>\n",
       "      <td>24</td>\n",
       "      <td>2</td>\n",
       "      <td>22</td>\n",
       "      <td>55</td>\n",
       "      <td>33</td>\n",
       "      <td>11</td>\n",
       "      <td>18</td>\n",
       "      <td>5</td>\n",
       "      <td>4</td>\n",
       "      <td>13</td>\n",
       "    </tr>\n",
       "    <tr>\n",
       "      <th>1</th>\n",
       "      <td>1/3/2019 19:00</td>\n",
       "      <td>0</td>\n",
       "      <td>North Carolina State Wolfpack</td>\n",
       "      <td>87</td>\n",
       "      <td>17</td>\n",
       "      <td>16</td>\n",
       "      <td>4</td>\n",
       "      <td>3</td>\n",
       "      <td>50</td>\n",
       "      <td>17</td>\n",
       "      <td>...</td>\n",
       "      <td>27</td>\n",
       "      <td>9</td>\n",
       "      <td>18</td>\n",
       "      <td>61</td>\n",
       "      <td>28</td>\n",
       "      <td>10</td>\n",
       "      <td>25</td>\n",
       "      <td>29</td>\n",
       "      <td>16</td>\n",
       "      <td>14</td>\n",
       "    </tr>\n",
       "    <tr>\n",
       "      <th>2</th>\n",
       "      <td>1/5/2019 3:27</td>\n",
       "      <td>0</td>\n",
       "      <td>Clemson Tigers</td>\n",
       "      <td>68</td>\n",
       "      <td>14</td>\n",
       "      <td>16</td>\n",
       "      <td>6</td>\n",
       "      <td>2</td>\n",
       "      <td>35</td>\n",
       "      <td>9</td>\n",
       "      <td>...</td>\n",
       "      <td>39</td>\n",
       "      <td>12</td>\n",
       "      <td>27</td>\n",
       "      <td>67</td>\n",
       "      <td>32</td>\n",
       "      <td>7</td>\n",
       "      <td>23</td>\n",
       "      <td>21</td>\n",
       "      <td>16</td>\n",
       "      <td>15</td>\n",
       "    </tr>\n",
       "    <tr>\n",
       "      <th>3</th>\n",
       "      <td>1/5/2019 12:00</td>\n",
       "      <td>0</td>\n",
       "      <td>Boston College Eagles</td>\n",
       "      <td>66</td>\n",
       "      <td>10</td>\n",
       "      <td>12</td>\n",
       "      <td>4</td>\n",
       "      <td>2</td>\n",
       "      <td>25</td>\n",
       "      <td>5</td>\n",
       "      <td>...</td>\n",
       "      <td>31</td>\n",
       "      <td>8</td>\n",
       "      <td>23</td>\n",
       "      <td>54</td>\n",
       "      <td>25</td>\n",
       "      <td>6</td>\n",
       "      <td>22</td>\n",
       "      <td>25</td>\n",
       "      <td>21</td>\n",
       "      <td>18</td>\n",
       "    </tr>\n",
       "    <tr>\n",
       "      <th>4</th>\n",
       "      <td>1/5/2019 12:00</td>\n",
       "      <td>0</td>\n",
       "      <td>Syracuse Orange</td>\n",
       "      <td>72</td>\n",
       "      <td>11</td>\n",
       "      <td>9</td>\n",
       "      <td>4</td>\n",
       "      <td>3</td>\n",
       "      <td>43</td>\n",
       "      <td>13</td>\n",
       "      <td>...</td>\n",
       "      <td>35</td>\n",
       "      <td>9</td>\n",
       "      <td>26</td>\n",
       "      <td>58</td>\n",
       "      <td>20</td>\n",
       "      <td>11</td>\n",
       "      <td>33</td>\n",
       "      <td>17</td>\n",
       "      <td>11</td>\n",
       "      <td>12</td>\n",
       "    </tr>\n",
       "  </tbody>\n",
       "</table>\n",
       "<p>5 rows × 34 columns</p>\n",
       "</div>"
      ],
      "text/plain": [
       "         GameDate  NeutralSite                       AwayTeam  AwayScore  \\\n",
       "0  1/1/2019 13:00            0      Notre Dame Fighting Irish         66   \n",
       "1  1/3/2019 19:00            0  North Carolina State Wolfpack         87   \n",
       "2   1/5/2019 3:27            0                 Clemson Tigers         68   \n",
       "3  1/5/2019 12:00            0          Boston College Eagles         66   \n",
       "4  1/5/2019 12:00            0                Syracuse Orange         72   \n",
       "\n",
       "   AwayAST  AwayTOV  AwaySTL  AwayBLK  AwayRebounds  AwayORB  ...  \\\n",
       "0       13       11        2        5            30       13  ...   \n",
       "1       17       16        4        3            50       17  ...   \n",
       "2       14       16        6        2            35        9  ...   \n",
       "3       10       12        4        2            25        5  ...   \n",
       "4       11        9        4        3            43       13  ...   \n",
       "\n",
       "   HomeRebounds  HomeORB  HomeDRB  HomeFGA  HomeFGM  Home3FGM  Home3FGA  \\\n",
       "0            24        2       22       55       33        11        18   \n",
       "1            27        9       18       61       28        10        25   \n",
       "2            39       12       27       67       32         7        23   \n",
       "3            31        8       23       54       25         6        22   \n",
       "4            35        9       26       58       20        11        33   \n",
       "\n",
       "   HomeFTA HomeFTM  HomeFouls  \n",
       "0        5       4         13  \n",
       "1       29      16         14  \n",
       "2       21      16         15  \n",
       "3       25      21         18  \n",
       "4       17      11         12  \n",
       "\n",
       "[5 rows x 34 columns]"
      ]
     },
     "execution_count": 3,
     "metadata": {},
     "output_type": "execute_result"
    }
   ],
   "source": [
    "assessment_3.head()"
   ]
  },
  {
   "cell_type": "markdown",
   "metadata": {},
   "source": [
    "# Basic Exploratory Analysis"
   ]
  },
  {
   "cell_type": "code",
   "execution_count": 4,
   "metadata": {},
   "outputs": [
    {
     "data": {
      "text/plain": [
       "(149, 34)"
      ]
     },
     "execution_count": 4,
     "metadata": {},
     "output_type": "execute_result"
    }
   ],
   "source": [
    "assessment_3.shape\n",
    "\n",
    "#There are 149 rows and 34 columns"
   ]
  },
  {
   "cell_type": "code",
   "execution_count": 5,
   "metadata": {},
   "outputs": [
    {
     "data": {
      "text/plain": [
       "GameDate        object\n",
       "NeutralSite      int64\n",
       "AwayTeam        object\n",
       "AwayScore        int64\n",
       "AwayAST          int64\n",
       "AwayTOV          int64\n",
       "AwaySTL          int64\n",
       "AwayBLK          int64\n",
       "AwayRebounds     int64\n",
       "AwayORB          int64\n",
       "AwayDRB          int64\n",
       "AwayFGA          int64\n",
       "AwayFGM          int64\n",
       "Away3FGM         int64\n",
       "Away3FGA         int64\n",
       "AwayFTA          int64\n",
       "AwayFTM          int64\n",
       "AwayFouls        int64\n",
       "HomeTeam        object\n",
       "HomeScore        int64\n",
       "HomeAST          int64\n",
       "HomeTOV          int64\n",
       "HomeSTL          int64\n",
       "HomeBLK          int64\n",
       "HomeRebounds     int64\n",
       "HomeORB          int64\n",
       "HomeDRB          int64\n",
       "HomeFGA          int64\n",
       "HomeFGM          int64\n",
       "Home3FGM         int64\n",
       "Home3FGA         int64\n",
       "HomeFTA          int64\n",
       "HomeFTM          int64\n",
       "HomeFouls        int64\n",
       "dtype: object"
      ]
     },
     "execution_count": 5,
     "metadata": {},
     "output_type": "execute_result"
    }
   ],
   "source": [
    "assessment_3.dtypes\n",
    "\n",
    "#There are a few objects, but most of the data are encoded as integers"
   ]
  },
  {
   "cell_type": "code",
   "execution_count": 6,
   "metadata": {},
   "outputs": [
    {
     "data": {
      "text/plain": [
       "GameDate        0\n",
       "NeutralSite     0\n",
       "AwayTeam        0\n",
       "AwayScore       0\n",
       "AwayAST         0\n",
       "AwayTOV         0\n",
       "AwaySTL         0\n",
       "AwayBLK         0\n",
       "AwayRebounds    0\n",
       "AwayORB         0\n",
       "AwayDRB         0\n",
       "AwayFGA         0\n",
       "AwayFGM         0\n",
       "Away3FGM        0\n",
       "Away3FGA        0\n",
       "AwayFTA         0\n",
       "AwayFTM         0\n",
       "AwayFouls       0\n",
       "HomeTeam        0\n",
       "HomeScore       0\n",
       "HomeAST         0\n",
       "HomeTOV         0\n",
       "HomeSTL         0\n",
       "HomeBLK         0\n",
       "HomeRebounds    0\n",
       "HomeORB         0\n",
       "HomeDRB         0\n",
       "HomeFGA         0\n",
       "HomeFGM         0\n",
       "Home3FGM        0\n",
       "Home3FGA        0\n",
       "HomeFTA         0\n",
       "HomeFTM         0\n",
       "HomeFouls       0\n",
       "dtype: int64"
      ]
     },
     "execution_count": 6,
     "metadata": {},
     "output_type": "execute_result"
    }
   ],
   "source": [
    "assessment_3.isna().sum()"
   ]
  },
  {
   "cell_type": "markdown",
   "metadata": {},
   "source": [
    "There does not appear to be any null values in this dataset"
   ]
  },
  {
   "cell_type": "code",
   "execution_count": 7,
   "metadata": {},
   "outputs": [
    {
     "data": {
      "text/html": [
       "<div>\n",
       "<style scoped>\n",
       "    .dataframe tbody tr th:only-of-type {\n",
       "        vertical-align: middle;\n",
       "    }\n",
       "\n",
       "    .dataframe tbody tr th {\n",
       "        vertical-align: top;\n",
       "    }\n",
       "\n",
       "    .dataframe thead th {\n",
       "        text-align: right;\n",
       "    }\n",
       "</style>\n",
       "<table border=\"1\" class=\"dataframe\">\n",
       "  <thead>\n",
       "    <tr style=\"text-align: right;\">\n",
       "      <th></th>\n",
       "      <th>NeutralSite</th>\n",
       "      <th>AwayScore</th>\n",
       "      <th>AwayAST</th>\n",
       "      <th>AwayTOV</th>\n",
       "      <th>AwaySTL</th>\n",
       "      <th>AwayBLK</th>\n",
       "      <th>AwayRebounds</th>\n",
       "      <th>AwayORB</th>\n",
       "      <th>AwayDRB</th>\n",
       "      <th>AwayFGA</th>\n",
       "      <th>...</th>\n",
       "      <th>HomeRebounds</th>\n",
       "      <th>HomeORB</th>\n",
       "      <th>HomeDRB</th>\n",
       "      <th>HomeFGA</th>\n",
       "      <th>HomeFGM</th>\n",
       "      <th>Home3FGM</th>\n",
       "      <th>Home3FGA</th>\n",
       "      <th>HomeFTA</th>\n",
       "      <th>HomeFTM</th>\n",
       "      <th>HomeFouls</th>\n",
       "    </tr>\n",
       "  </thead>\n",
       "  <tbody>\n",
       "    <tr>\n",
       "      <th>count</th>\n",
       "      <td>149.000000</td>\n",
       "      <td>149.000000</td>\n",
       "      <td>149.000000</td>\n",
       "      <td>149.000000</td>\n",
       "      <td>149.000000</td>\n",
       "      <td>149.000000</td>\n",
       "      <td>149.000000</td>\n",
       "      <td>149.000000</td>\n",
       "      <td>149.000000</td>\n",
       "      <td>149.000000</td>\n",
       "      <td>...</td>\n",
       "      <td>149.000000</td>\n",
       "      <td>149.000000</td>\n",
       "      <td>149.000000</td>\n",
       "      <td>149.000000</td>\n",
       "      <td>149.000000</td>\n",
       "      <td>149.000000</td>\n",
       "      <td>149.000000</td>\n",
       "      <td>149.000000</td>\n",
       "      <td>149.000000</td>\n",
       "      <td>149.000000</td>\n",
       "    </tr>\n",
       "    <tr>\n",
       "      <th>mean</th>\n",
       "      <td>0.093960</td>\n",
       "      <td>68.536913</td>\n",
       "      <td>12.758389</td>\n",
       "      <td>12.080537</td>\n",
       "      <td>5.765101</td>\n",
       "      <td>3.369128</td>\n",
       "      <td>33.073826</td>\n",
       "      <td>9.288591</td>\n",
       "      <td>23.785235</td>\n",
       "      <td>58.187919</td>\n",
       "      <td>...</td>\n",
       "      <td>32.785235</td>\n",
       "      <td>9.087248</td>\n",
       "      <td>23.697987</td>\n",
       "      <td>57.557047</td>\n",
       "      <td>24.248322</td>\n",
       "      <td>7.570470</td>\n",
       "      <td>23.375839</td>\n",
       "      <td>19.167785</td>\n",
       "      <td>14.228188</td>\n",
       "      <td>15.704698</td>\n",
       "    </tr>\n",
       "    <tr>\n",
       "      <th>std</th>\n",
       "      <td>0.292757</td>\n",
       "      <td>11.559788</td>\n",
       "      <td>4.531647</td>\n",
       "      <td>3.583967</td>\n",
       "      <td>2.805374</td>\n",
       "      <td>2.206713</td>\n",
       "      <td>6.761471</td>\n",
       "      <td>3.543733</td>\n",
       "      <td>5.297327</td>\n",
       "      <td>7.822671</td>\n",
       "      <td>...</td>\n",
       "      <td>6.296249</td>\n",
       "      <td>3.633428</td>\n",
       "      <td>4.919219</td>\n",
       "      <td>7.232979</td>\n",
       "      <td>4.913998</td>\n",
       "      <td>3.115469</td>\n",
       "      <td>5.605833</td>\n",
       "      <td>7.539448</td>\n",
       "      <td>6.075116</td>\n",
       "      <td>3.568828</td>\n",
       "    </tr>\n",
       "    <tr>\n",
       "      <th>min</th>\n",
       "      <td>0.000000</td>\n",
       "      <td>37.000000</td>\n",
       "      <td>2.000000</td>\n",
       "      <td>2.000000</td>\n",
       "      <td>0.000000</td>\n",
       "      <td>0.000000</td>\n",
       "      <td>18.000000</td>\n",
       "      <td>1.000000</td>\n",
       "      <td>12.000000</td>\n",
       "      <td>41.000000</td>\n",
       "      <td>...</td>\n",
       "      <td>18.000000</td>\n",
       "      <td>1.000000</td>\n",
       "      <td>12.000000</td>\n",
       "      <td>38.000000</td>\n",
       "      <td>9.000000</td>\n",
       "      <td>1.000000</td>\n",
       "      <td>10.000000</td>\n",
       "      <td>5.000000</td>\n",
       "      <td>2.000000</td>\n",
       "      <td>6.000000</td>\n",
       "    </tr>\n",
       "    <tr>\n",
       "      <th>25%</th>\n",
       "      <td>0.000000</td>\n",
       "      <td>61.000000</td>\n",
       "      <td>9.000000</td>\n",
       "      <td>10.000000</td>\n",
       "      <td>4.000000</td>\n",
       "      <td>2.000000</td>\n",
       "      <td>29.000000</td>\n",
       "      <td>7.000000</td>\n",
       "      <td>20.000000</td>\n",
       "      <td>53.000000</td>\n",
       "      <td>...</td>\n",
       "      <td>28.000000</td>\n",
       "      <td>6.000000</td>\n",
       "      <td>20.000000</td>\n",
       "      <td>53.000000</td>\n",
       "      <td>22.000000</td>\n",
       "      <td>6.000000</td>\n",
       "      <td>20.000000</td>\n",
       "      <td>14.000000</td>\n",
       "      <td>10.000000</td>\n",
       "      <td>13.000000</td>\n",
       "    </tr>\n",
       "    <tr>\n",
       "      <th>50%</th>\n",
       "      <td>0.000000</td>\n",
       "      <td>69.000000</td>\n",
       "      <td>13.000000</td>\n",
       "      <td>12.000000</td>\n",
       "      <td>6.000000</td>\n",
       "      <td>3.000000</td>\n",
       "      <td>33.000000</td>\n",
       "      <td>9.000000</td>\n",
       "      <td>23.000000</td>\n",
       "      <td>57.000000</td>\n",
       "      <td>...</td>\n",
       "      <td>32.000000</td>\n",
       "      <td>9.000000</td>\n",
       "      <td>23.000000</td>\n",
       "      <td>57.000000</td>\n",
       "      <td>24.000000</td>\n",
       "      <td>8.000000</td>\n",
       "      <td>23.000000</td>\n",
       "      <td>19.000000</td>\n",
       "      <td>14.000000</td>\n",
       "      <td>16.000000</td>\n",
       "    </tr>\n",
       "    <tr>\n",
       "      <th>75%</th>\n",
       "      <td>0.000000</td>\n",
       "      <td>78.000000</td>\n",
       "      <td>16.000000</td>\n",
       "      <td>14.000000</td>\n",
       "      <td>7.000000</td>\n",
       "      <td>5.000000</td>\n",
       "      <td>37.000000</td>\n",
       "      <td>11.000000</td>\n",
       "      <td>27.000000</td>\n",
       "      <td>64.000000</td>\n",
       "      <td>...</td>\n",
       "      <td>37.000000</td>\n",
       "      <td>12.000000</td>\n",
       "      <td>27.000000</td>\n",
       "      <td>62.000000</td>\n",
       "      <td>27.000000</td>\n",
       "      <td>9.000000</td>\n",
       "      <td>26.000000</td>\n",
       "      <td>24.000000</td>\n",
       "      <td>18.000000</td>\n",
       "      <td>18.000000</td>\n",
       "    </tr>\n",
       "    <tr>\n",
       "      <th>max</th>\n",
       "      <td>1.000000</td>\n",
       "      <td>96.000000</td>\n",
       "      <td>26.000000</td>\n",
       "      <td>23.000000</td>\n",
       "      <td>15.000000</td>\n",
       "      <td>13.000000</td>\n",
       "      <td>53.000000</td>\n",
       "      <td>18.000000</td>\n",
       "      <td>38.000000</td>\n",
       "      <td>80.000000</td>\n",
       "      <td>...</td>\n",
       "      <td>49.000000</td>\n",
       "      <td>18.000000</td>\n",
       "      <td>37.000000</td>\n",
       "      <td>80.000000</td>\n",
       "      <td>37.000000</td>\n",
       "      <td>16.000000</td>\n",
       "      <td>43.000000</td>\n",
       "      <td>46.000000</td>\n",
       "      <td>38.000000</td>\n",
       "      <td>26.000000</td>\n",
       "    </tr>\n",
       "  </tbody>\n",
       "</table>\n",
       "<p>8 rows × 31 columns</p>\n",
       "</div>"
      ],
      "text/plain": [
       "       NeutralSite   AwayScore     AwayAST     AwayTOV     AwaySTL  \\\n",
       "count   149.000000  149.000000  149.000000  149.000000  149.000000   \n",
       "mean      0.093960   68.536913   12.758389   12.080537    5.765101   \n",
       "std       0.292757   11.559788    4.531647    3.583967    2.805374   \n",
       "min       0.000000   37.000000    2.000000    2.000000    0.000000   \n",
       "25%       0.000000   61.000000    9.000000   10.000000    4.000000   \n",
       "50%       0.000000   69.000000   13.000000   12.000000    6.000000   \n",
       "75%       0.000000   78.000000   16.000000   14.000000    7.000000   \n",
       "max       1.000000   96.000000   26.000000   23.000000   15.000000   \n",
       "\n",
       "          AwayBLK  AwayRebounds     AwayORB     AwayDRB     AwayFGA  ...  \\\n",
       "count  149.000000    149.000000  149.000000  149.000000  149.000000  ...   \n",
       "mean     3.369128     33.073826    9.288591   23.785235   58.187919  ...   \n",
       "std      2.206713      6.761471    3.543733    5.297327    7.822671  ...   \n",
       "min      0.000000     18.000000    1.000000   12.000000   41.000000  ...   \n",
       "25%      2.000000     29.000000    7.000000   20.000000   53.000000  ...   \n",
       "50%      3.000000     33.000000    9.000000   23.000000   57.000000  ...   \n",
       "75%      5.000000     37.000000   11.000000   27.000000   64.000000  ...   \n",
       "max     13.000000     53.000000   18.000000   38.000000   80.000000  ...   \n",
       "\n",
       "       HomeRebounds     HomeORB     HomeDRB     HomeFGA     HomeFGM  \\\n",
       "count    149.000000  149.000000  149.000000  149.000000  149.000000   \n",
       "mean      32.785235    9.087248   23.697987   57.557047   24.248322   \n",
       "std        6.296249    3.633428    4.919219    7.232979    4.913998   \n",
       "min       18.000000    1.000000   12.000000   38.000000    9.000000   \n",
       "25%       28.000000    6.000000   20.000000   53.000000   22.000000   \n",
       "50%       32.000000    9.000000   23.000000   57.000000   24.000000   \n",
       "75%       37.000000   12.000000   27.000000   62.000000   27.000000   \n",
       "max       49.000000   18.000000   37.000000   80.000000   37.000000   \n",
       "\n",
       "         Home3FGM    Home3FGA     HomeFTA     HomeFTM   HomeFouls  \n",
       "count  149.000000  149.000000  149.000000  149.000000  149.000000  \n",
       "mean     7.570470   23.375839   19.167785   14.228188   15.704698  \n",
       "std      3.115469    5.605833    7.539448    6.075116    3.568828  \n",
       "min      1.000000   10.000000    5.000000    2.000000    6.000000  \n",
       "25%      6.000000   20.000000   14.000000   10.000000   13.000000  \n",
       "50%      8.000000   23.000000   19.000000   14.000000   16.000000  \n",
       "75%      9.000000   26.000000   24.000000   18.000000   18.000000  \n",
       "max     16.000000   43.000000   46.000000   38.000000   26.000000  \n",
       "\n",
       "[8 rows x 31 columns]"
      ]
     },
     "execution_count": 7,
     "metadata": {},
     "output_type": "execute_result"
    }
   ],
   "source": [
    "assessment_3.describe()"
   ]
  },
  {
   "cell_type": "code",
   "execution_count": 8,
   "metadata": {},
   "outputs": [
    {
     "data": {
      "text/html": [
       "<div>\n",
       "<style scoped>\n",
       "    .dataframe tbody tr th:only-of-type {\n",
       "        vertical-align: middle;\n",
       "    }\n",
       "\n",
       "    .dataframe tbody tr th {\n",
       "        vertical-align: top;\n",
       "    }\n",
       "\n",
       "    .dataframe thead th {\n",
       "        text-align: right;\n",
       "    }\n",
       "</style>\n",
       "<table border=\"1\" class=\"dataframe\">\n",
       "  <thead>\n",
       "    <tr style=\"text-align: right;\">\n",
       "      <th></th>\n",
       "      <th>GameDate</th>\n",
       "      <th>AwayTeam</th>\n",
       "      <th>HomeTeam</th>\n",
       "    </tr>\n",
       "  </thead>\n",
       "  <tbody>\n",
       "    <tr>\n",
       "      <th>count</th>\n",
       "      <td>149</td>\n",
       "      <td>149</td>\n",
       "      <td>149</td>\n",
       "    </tr>\n",
       "    <tr>\n",
       "      <th>unique</th>\n",
       "      <td>111</td>\n",
       "      <td>15</td>\n",
       "      <td>15</td>\n",
       "    </tr>\n",
       "    <tr>\n",
       "      <th>top</th>\n",
       "      <td>1/12/2019 12:00</td>\n",
       "      <td>Notre Dame Fighting Irish</td>\n",
       "      <td>Duke Blue Devils</td>\n",
       "    </tr>\n",
       "    <tr>\n",
       "      <th>freq</th>\n",
       "      <td>4</td>\n",
       "      <td>11</td>\n",
       "      <td>11</td>\n",
       "    </tr>\n",
       "  </tbody>\n",
       "</table>\n",
       "</div>"
      ],
      "text/plain": [
       "               GameDate                   AwayTeam          HomeTeam\n",
       "count               149                        149               149\n",
       "unique              111                         15                15\n",
       "top     1/12/2019 12:00  Notre Dame Fighting Irish  Duke Blue Devils\n",
       "freq                  4                         11                11"
      ]
     },
     "execution_count": 8,
     "metadata": {},
     "output_type": "execute_result"
    }
   ],
   "source": [
    "assessment_3.describe(include='object')\n",
    "\n",
    "#Basic stats for non-integers"
   ]
  },
  {
   "cell_type": "code",
   "execution_count": 9,
   "metadata": {},
   "outputs": [
    {
     "data": {
      "text/plain": [
       "Notre Dame Fighting Irish        11\n",
       "Florida State Seminoles          11\n",
       "Pittsburgh Panthers              11\n",
       "Duke Blue Devils                 10\n",
       "Virginia Tech Hokies             10\n",
       "Syracuse Orange                  10\n",
       "Louisville Cardinals             10\n",
       "Wake Forest Demon Deacons        10\n",
       "North Carolina State Wolfpack    10\n",
       "Miami (FL) Hurricanes            10\n",
       "Clemson Tigers                   10\n",
       "Boston College Eagles             9\n",
       "Virginia Cavaliers                9\n",
       "North Carolina Tar Heels          9\n",
       "Georgia Tech Yellow Jackets       9\n",
       "Name: AwayTeam, dtype: int64"
      ]
     },
     "execution_count": 9,
     "metadata": {},
     "output_type": "execute_result"
    }
   ],
   "source": [
    "assessment_3.loc[:, \"AwayTeam\"].value_counts()"
   ]
  },
  {
   "cell_type": "markdown",
   "metadata": {},
   "source": [
    "In this datset Pitt, ND, and FSU have been designated the \"away team\" most often"
   ]
  },
  {
   "cell_type": "code",
   "execution_count": 10,
   "metadata": {},
   "outputs": [
    {
     "data": {
      "text/plain": [
       "Duke Blue Devils                 11\n",
       "Virginia Cavaliers               11\n",
       "North Carolina Tar Heels         11\n",
       "Miami (FL) Hurricanes            10\n",
       "Syracuse Orange                  10\n",
       "Louisville Cardinals             10\n",
       "Virginia Tech Hokies             10\n",
       "North Carolina State Wolfpack    10\n",
       "Boston College Eagles            10\n",
       "Florida State Seminoles          10\n",
       "Georgia Tech Yellow Jackets      10\n",
       "Notre Dame Fighting Irish         9\n",
       "Wake Forest Demon Deacons         9\n",
       "Pittsburgh Panthers               9\n",
       "Clemson Tigers                    9\n",
       "Name: HomeTeam, dtype: int64"
      ]
     },
     "execution_count": 10,
     "metadata": {},
     "output_type": "execute_result"
    }
   ],
   "source": [
    "assessment_3.loc[:, \"HomeTeam\"].value_counts()"
   ]
  },
  {
   "cell_type": "markdown",
   "metadata": {},
   "source": [
    "UNC, Duke, and UVA have been designated the \"home team\" most often"
   ]
  },
  {
   "cell_type": "markdown",
   "metadata": {},
   "source": [
    "# Hypothesis for How to Rank These Teams"
   ]
  },
  {
   "cell_type": "markdown",
   "metadata": {},
   "source": [
    "I am going to use a Score to Net Score ratio as my criteria for ranking these teams. I will explore the relationship that this ratio has with team wins. I am assuming that teams with a higher ratio will have more wins and those with a smaller ratio will have fewer wins.\n",
    "\n",
    "I believe this will be a good variable to use because it controls for both offense and defense. If you score a lot of points, but win by a small amount or lose games, your defense is most likely sub-par. Conversely, if you don't score a lot, but win many games and at a decent margin, your defense is most likely superb. Virginia comes to mind when I envision the latter scenario as they are known for defense and low scoring games, yet are defending National Champions. \n",
    "\n",
    "The best team will ideally be the team that scores the most and wins by the greatest margin."
   ]
  },
  {
   "cell_type": "markdown",
   "metadata": {},
   "source": [
    "The Score to Net Score ratio is calculated simply by roadnetscore/awayteamscore and similarly homenetscore/hometeamscore. Each team's individual ratios were added up and then averaged out for the total games they played."
   ]
  },
  {
   "cell_type": "markdown",
   "metadata": {},
   "source": [
    "#### Quick Note on the Data"
   ]
  },
  {
   "cell_type": "markdown",
   "metadata": {},
   "source": [
    "There are some aspects of data transformation where I am more comfortable using Excel than Python or R. I attached my Excel data in the zip file I sent. Below is what I configured using Excel. I did NOT add any data from outside sources, I simply transformed the data to my liking."
   ]
  },
  {
   "cell_type": "code",
   "execution_count": 11,
   "metadata": {},
   "outputs": [],
   "source": [
    "acc_model = pd.read_csv(\"new_rankings.csv\")"
   ]
  },
  {
   "cell_type": "code",
   "execution_count": 12,
   "metadata": {},
   "outputs": [
    {
     "data": {
      "text/html": [
       "<div>\n",
       "<style scoped>\n",
       "    .dataframe tbody tr th:only-of-type {\n",
       "        vertical-align: middle;\n",
       "    }\n",
       "\n",
       "    .dataframe tbody tr th {\n",
       "        vertical-align: top;\n",
       "    }\n",
       "\n",
       "    .dataframe thead th {\n",
       "        text-align: right;\n",
       "    }\n",
       "</style>\n",
       "<table border=\"1\" class=\"dataframe\">\n",
       "  <thead>\n",
       "    <tr style=\"text-align: right;\">\n",
       "      <th></th>\n",
       "      <th>Team</th>\n",
       "      <th>RoadWins</th>\n",
       "      <th>RoadLosses</th>\n",
       "      <th>RoadRatio</th>\n",
       "      <th>HomeWins</th>\n",
       "      <th>HomeLosses</th>\n",
       "      <th>HomeRatio</th>\n",
       "      <th>TotalWins</th>\n",
       "      <th>TotalLosses</th>\n",
       "      <th>TotalGames</th>\n",
       "      <th>TotalRatio</th>\n",
       "      <th>AvgRatio</th>\n",
       "    </tr>\n",
       "  </thead>\n",
       "  <tbody>\n",
       "    <tr>\n",
       "      <th>0</th>\n",
       "      <td>Duke Blue Devils</td>\n",
       "      <td>8</td>\n",
       "      <td>2</td>\n",
       "      <td>0.833</td>\n",
       "      <td>9</td>\n",
       "      <td>2</td>\n",
       "      <td>1.298</td>\n",
       "      <td>17</td>\n",
       "      <td>4</td>\n",
       "      <td>21</td>\n",
       "      <td>2.132</td>\n",
       "      <td>0.102</td>\n",
       "    </tr>\n",
       "    <tr>\n",
       "      <th>1</th>\n",
       "      <td>North Carolina Tar Heels</td>\n",
       "      <td>9</td>\n",
       "      <td>0</td>\n",
       "      <td>1.685</td>\n",
       "      <td>8</td>\n",
       "      <td>3</td>\n",
       "      <td>0.575</td>\n",
       "      <td>17</td>\n",
       "      <td>3</td>\n",
       "      <td>20</td>\n",
       "      <td>2.260</td>\n",
       "      <td>0.113</td>\n",
       "    </tr>\n",
       "    <tr>\n",
       "      <th>2</th>\n",
       "      <td>Virginia Cavaliers</td>\n",
       "      <td>8</td>\n",
       "      <td>1</td>\n",
       "      <td>1.685</td>\n",
       "      <td>9</td>\n",
       "      <td>2</td>\n",
       "      <td>1.809</td>\n",
       "      <td>17</td>\n",
       "      <td>3</td>\n",
       "      <td>20</td>\n",
       "      <td>3.494</td>\n",
       "      <td>0.175</td>\n",
       "    </tr>\n",
       "    <tr>\n",
       "      <th>3</th>\n",
       "      <td>Florida State Seminoles</td>\n",
       "      <td>6</td>\n",
       "      <td>5</td>\n",
       "      <td>0.150</td>\n",
       "      <td>9</td>\n",
       "      <td>1</td>\n",
       "      <td>0.983</td>\n",
       "      <td>15</td>\n",
       "      <td>6</td>\n",
       "      <td>21</td>\n",
       "      <td>1.133</td>\n",
       "      <td>0.054</td>\n",
       "    </tr>\n",
       "    <tr>\n",
       "      <th>4</th>\n",
       "      <td>Virginia Tech Hokies</td>\n",
       "      <td>5</td>\n",
       "      <td>5</td>\n",
       "      <td>-0.060</td>\n",
       "      <td>8</td>\n",
       "      <td>2</td>\n",
       "      <td>1.114</td>\n",
       "      <td>13</td>\n",
       "      <td>7</td>\n",
       "      <td>20</td>\n",
       "      <td>1.054</td>\n",
       "      <td>0.053</td>\n",
       "    </tr>\n",
       "  </tbody>\n",
       "</table>\n",
       "</div>"
      ],
      "text/plain": [
       "                       Team  RoadWins  RoadLosses  RoadRatio  HomeWins  \\\n",
       "0          Duke Blue Devils         8           2      0.833         9   \n",
       "1  North Carolina Tar Heels         9           0      1.685         8   \n",
       "2        Virginia Cavaliers         8           1      1.685         9   \n",
       "3   Florida State Seminoles         6           5      0.150         9   \n",
       "4      Virginia Tech Hokies         5           5     -0.060         8   \n",
       "\n",
       "   HomeLosses  HomeRatio  TotalWins  TotalLosses  TotalGames  TotalRatio  \\\n",
       "0           2      1.298         17            4          21       2.132   \n",
       "1           3      0.575         17            3          20       2.260   \n",
       "2           2      1.809         17            3          20       3.494   \n",
       "3           1      0.983         15            6          21       1.133   \n",
       "4           2      1.114         13            7          20       1.054   \n",
       "\n",
       "   AvgRatio  \n",
       "0     0.102  \n",
       "1     0.113  \n",
       "2     0.175  \n",
       "3     0.054  \n",
       "4     0.053  "
      ]
     },
     "execution_count": 12,
     "metadata": {},
     "output_type": "execute_result"
    }
   ],
   "source": [
    "acc_model.head()"
   ]
  },
  {
   "cell_type": "code",
   "execution_count": 13,
   "metadata": {},
   "outputs": [
    {
     "data": {
      "image/png": "[encoded data removed]",
      "text/plain": [
       "<Figure size 432x288 with 1 Axes>"
      ]
     },
     "metadata": {
      "needs_background": "light"
     },
     "output_type": "display_data"
    }
   ],
   "source": [
    "ax = acc_model.plot(kind='scatter', x='AvgRatio', y='TotalWins')\n",
    "plt.ylabel(\"Total Wins in ACC\")\n",
    "plt.xlabel(\"Average Points:NetScore Ratio\")\n",
    "plt.title(\"ACC Wins vs. Points:NetScore Ratio\");"
   ]
  },
  {
   "cell_type": "markdown",
   "metadata": {},
   "source": [
    "There is definitely a positive correlation between the Points:NetScore ratio and total wins. Just from eye-balling the graph the correlation looks to be between moderate to strong. It is certainly not a weak correlation. Now the next part is to develop a model explaining the relationship further."
   ]
  },
  {
   "cell_type": "markdown",
   "metadata": {},
   "source": [
    "# Basic Linear Regression"
   ]
  },
  {
   "cell_type": "markdown",
   "metadata": {},
   "source": [
    "#### Separating X and Y Variables"
   ]
  },
  {
   "cell_type": "code",
   "execution_count": 14,
   "metadata": {},
   "outputs": [],
   "source": [
    "X = acc_model.iloc[:,11:12].values\n",
    "y = acc_model.iloc[:,7].values"
   ]
  },
  {
   "cell_type": "markdown",
   "metadata": {},
   "source": [
    "#### Creating a Training and Test Set"
   ]
  },
  {
   "cell_type": "code",
   "execution_count": 15,
   "metadata": {},
   "outputs": [],
   "source": [
    "from sklearn.model_selection import train_test_split\n",
    "\n",
    "X_train, X_test, y_train, y_test = train_test_split(X, y, test_size = .3, random_state=0)\n",
    "\n",
    "#I am setting aside 70% of the data for the training set and 30% for the test set. "
   ]
  },
  {
   "cell_type": "code",
   "execution_count": 16,
   "metadata": {},
   "outputs": [
    {
     "data": {
      "text/plain": [
       "LinearRegression(copy_X=True, fit_intercept=True, n_jobs=None,\n",
       "         normalize=False)"
      ]
     },
     "execution_count": 16,
     "metadata": {},
     "output_type": "execute_result"
    }
   ],
   "source": [
    "from sklearn.linear_model import LinearRegression\n",
    "\n",
    "lr = LinearRegression()\n",
    "\n",
    "lr.fit(X_train, y_train)"
   ]
  },
  {
   "cell_type": "code",
   "execution_count": 17,
   "metadata": {},
   "outputs": [
    {
     "name": "stdout",
     "output_type": "stream",
     "text": [
      "0.9383408978474024\n",
      "0.5946767878117325\n"
     ]
    }
   ],
   "source": [
    "#Scoring the model on the training set and test set.\n",
    "#These are the R-squared values for the training set and test set. \n",
    "\n",
    "print(lr.score(X_train, y_train))\n",
    "print(lr.score(X_test, y_test))"
   ]
  },
  {
   "cell_type": "markdown",
   "metadata": {},
   "source": [
    "It looks like the basic linear regression model is suffering from severe overfitting. The discrepancy between the R-squared values for the training set and test set is quite large. "
   ]
  },
  {
   "cell_type": "code",
   "execution_count": 18,
   "metadata": {},
   "outputs": [
    {
     "name": "stdout",
     "output_type": "stream",
     "text": [
      "2.864217487323638\n"
     ]
    }
   ],
   "source": [
    "from sklearn.metrics import mean_squared_error\n",
    "from math import sqrt\n",
    "\n",
    "rmse_lr = sqrt(mean_squared_error(lr.predict(X_test), y_test))\n",
    "\n",
    "print(rmse_lr)"
   ]
  },
  {
   "cell_type": "markdown",
   "metadata": {},
   "source": [
    "#### Plotting Our Regression"
   ]
  },
  {
   "cell_type": "code",
   "execution_count": 19,
   "metadata": {},
   "outputs": [
    {
     "data": {
      "image/png": "[encoded data removed]",
      "text/plain": [
       "<Figure size 432x288 with 1 Axes>"
      ]
     },
     "metadata": {
      "needs_background": "light"
     },
     "output_type": "display_data"
    }
   ],
   "source": [
    "#Here we are plotting our real data, using the training set\n",
    "#We want to plot the points, then plot the regression line that runs through\n",
    "#We want to compare the actual data on the training set, to the predicted values derived from the training set\n",
    "\n",
    "plt.scatter(X_train, y_train, color = \"red\")\n",
    "\n",
    "plt.plot(X_train, lr.predict(X_train), color = \"blue\")\n",
    "\n",
    "#Here we are just simply labeling our graph\n",
    "plt.title(\"ACC Wins vs. Points:NetScore Ratio (Training Set)\")\n",
    "plt.xlabel(\"Average Points:NetScore Ratio\")\n",
    "plt.ylabel(\"Total Wins\")\n",
    "plt.show()"
   ]
  },
  {
   "cell_type": "markdown",
   "metadata": {},
   "source": [
    "The regression line isn't a perfect fit, but it fits well enough. This matches our R-squared value from the training set."
   ]
  },
  {
   "cell_type": "code",
   "execution_count": 20,
   "metadata": {},
   "outputs": [
    {
     "data": {
      "image/png": "[encoded data removed]",
      "text/plain": [
       "<Figure size 432x288 with 1 Axes>"
      ]
     },
     "metadata": {
      "needs_background": "light"
     },
     "output_type": "display_data"
    }
   ],
   "source": [
    "#Here we are plotting our real data, using the test set\n",
    "#We want to plot the points, then plot the regression line that runs through\n",
    "#We want to compare the actual data on the training set, to the predicted values derived from the training set\n",
    "\n",
    "plt.scatter(X_test, y_test, color = \"red\")\n",
    "\n",
    "plt.plot(X_train, lr.predict(X_train), color = \"blue\")\n",
    "\n",
    "#Here we are just simply labeling our graph\n",
    "plt.title(\"ACC Wins vs. Points:NetScore Ratio (Test Set)\")\n",
    "plt.xlabel(\"Average Points:NetScore Ratio\")\n",
    "plt.ylabel(\"Total Wins\")\n",
    "plt.show()"
   ]
  },
  {
   "cell_type": "markdown",
   "metadata": {},
   "source": [
    "This regression line is a pretty bad fit. It does match what we should expect based on the R-squared values from the test set."
   ]
  },
  {
   "cell_type": "markdown",
   "metadata": {},
   "source": [
    "# Random Forest Regression"
   ]
  },
  {
   "cell_type": "markdown",
   "metadata": {},
   "source": [
    "As usual, since the standard linear regression model was not very predictive we should instead use a different type of model. First up will be Random Forest Regression."
   ]
  },
  {
   "cell_type": "markdown",
   "metadata": {},
   "source": [
    "#### Separating X and Y Variables"
   ]
  },
  {
   "cell_type": "code",
   "execution_count": 21,
   "metadata": {},
   "outputs": [],
   "source": [
    "X2 = acc_model.iloc[:,11:12].values\n",
    "y2 = acc_model.iloc[:,7].values"
   ]
  },
  {
   "cell_type": "markdown",
   "metadata": {},
   "source": [
    "#### Creating a Training and Test Set"
   ]
  },
  {
   "cell_type": "code",
   "execution_count": 22,
   "metadata": {},
   "outputs": [],
   "source": [
    "from sklearn.model_selection import train_test_split\n",
    "\n",
    "X2_train, X2_test, y2_train, y2_test = train_test_split(X2, y2, test_size = .3, random_state=0)"
   ]
  },
  {
   "cell_type": "code",
   "execution_count": 23,
   "metadata": {},
   "outputs": [
    {
     "data": {
      "text/plain": [
       "RandomForestRegressor(bootstrap=True, criterion='mse', max_depth=None,\n",
       "           max_features='auto', max_leaf_nodes=None,\n",
       "           min_impurity_decrease=0.0, min_impurity_split=None,\n",
       "           min_samples_leaf=1, min_samples_split=2,\n",
       "           min_weight_fraction_leaf=0.0, n_estimators=200, n_jobs=None,\n",
       "           oob_score=False, random_state=None, verbose=0, warm_start=False)"
      ]
     },
     "execution_count": 23,
     "metadata": {},
     "output_type": "execute_result"
    }
   ],
   "source": [
    "from sklearn.ensemble import RandomForestRegressor\n",
    "\n",
    "rfr = RandomForestRegressor(n_estimators=200)\n",
    "rfr.fit(X2_train, y2_train)"
   ]
  },
  {
   "cell_type": "code",
   "execution_count": 24,
   "metadata": {},
   "outputs": [
    {
     "name": "stdout",
     "output_type": "stream",
     "text": [
      "0.9775894747557003\n",
      "0.8681054841897233\n"
     ]
    }
   ],
   "source": [
    "print(rfr.score(X2_train, y2_train))\n",
    "print(rfr.score(X2_test, y2_test))"
   ]
  },
  {
   "cell_type": "markdown",
   "metadata": {},
   "source": [
    "The Random Forest Regression seems to also suffer from overfitting, but not nearly at the same level as the standard linear regression model. The RFR is a big improvement for predictive capability."
   ]
  },
  {
   "cell_type": "code",
   "execution_count": 25,
   "metadata": {},
   "outputs": [
    {
     "name": "stdout",
     "output_type": "stream",
     "text": [
      "1.6338742301658347\n"
     ]
    }
   ],
   "source": [
    "rmse_rfr = sqrt(mean_squared_error(rfr.predict(X2_test), y2_test))\n",
    "\n",
    "print(rmse_rfr)"
   ]
  },
  {
   "cell_type": "markdown",
   "metadata": {},
   "source": [
    "# XGBoost Regression"
   ]
  },
  {
   "cell_type": "markdown",
   "metadata": {},
   "source": [
    "The final type of model we can implement is an XGBoost Regression"
   ]
  },
  {
   "cell_type": "markdown",
   "metadata": {},
   "source": [
    "#### Separating X and Y Variables"
   ]
  },
  {
   "cell_type": "code",
   "execution_count": 26,
   "metadata": {},
   "outputs": [],
   "source": [
    "X3 = acc_model.iloc[:,11:12].values\n",
    "y3 = acc_model.iloc[:,7].values"
   ]
  },
  {
   "cell_type": "markdown",
   "metadata": {},
   "source": [
    "#### Creating a Training and Test Set"
   ]
  },
  {
   "cell_type": "code",
   "execution_count": 27,
   "metadata": {},
   "outputs": [],
   "source": [
    "from sklearn.model_selection import train_test_split\n",
    "\n",
    "X3_train, X3_test, y3_train, y3_test = train_test_split(X3, y3, test_size = .3, random_state=0)"
   ]
  },
  {
   "cell_type": "code",
   "execution_count": 28,
   "metadata": {},
   "outputs": [],
   "source": [
    "import xgboost as xgb\n",
    "xgb_reg = xgb.XGBRegressor()"
   ]
  },
  {
   "cell_type": "code",
   "execution_count": 29,
   "metadata": {},
   "outputs": [
    {
     "name": "stdout",
     "output_type": "stream",
     "text": [
      "[10:07:42] WARNING: src/objective/regression_obj.cu:152: reg:linear is now deprecated in favor of reg:squarederror.\n"
     ]
    },
    {
     "data": {
      "text/plain": [
       "XGBRegressor(base_score=0.5, booster='gbtree', colsample_bylevel=1,\n",
       "       colsample_bynode=1, colsample_bytree=1, gamma=0,\n",
       "       importance_type='gain', learning_rate=0.1, max_delta_step=0,\n",
       "       max_depth=3, min_child_weight=1, missing=None, n_estimators=100,\n",
       "       n_jobs=1, nthread=None, objective='reg:linear', random_state=0,\n",
       "       reg_alpha=0, reg_lambda=1, scale_pos_weight=1, seed=None,\n",
       "       silent=None, subsample=1, verbosity=1)"
      ]
     },
     "execution_count": 29,
     "metadata": {},
     "output_type": "execute_result"
    }
   ],
   "source": [
    "xgb_reg.fit(X3_train, y3_train)"
   ]
  },
  {
   "cell_type": "code",
   "execution_count": 30,
   "metadata": {},
   "outputs": [
    {
     "name": "stdout",
     "output_type": "stream",
     "text": [
      "0.9999970601880499\n",
      "0.9111097735960506\n"
     ]
    }
   ],
   "source": [
    "print(xgb_reg.score(X3_train, y3_train))\n",
    "print(xgb_reg.score(X3_test, y3_test))"
   ]
  },
  {
   "cell_type": "markdown",
   "metadata": {},
   "source": [
    "For a third time, we seem to be stuck with a slight overfitting issue. However, the XGBoost model seems to hold pretty good predictive capabilities. "
   ]
  },
  {
   "cell_type": "code",
   "execution_count": 31,
   "metadata": {},
   "outputs": [
    {
     "name": "stdout",
     "output_type": "stream",
     "text": [
      "1.6338742301658347\n"
     ]
    }
   ],
   "source": [
    "rmse_xgb = sqrt(mean_squared_error(rfr.predict(X3_test), y3_test))\n",
    "\n",
    "print(rmse_xgb)"
   ]
  },
  {
   "cell_type": "markdown",
   "metadata": {},
   "source": [
    "# Finishing Touches"
   ]
  },
  {
   "cell_type": "code",
   "execution_count": 32,
   "metadata": {},
   "outputs": [],
   "source": [
    "acc_model[\"Rank\"] = acc_model[\"AvgRatio\"].rank(ascending=False) "
   ]
  },
  {
   "cell_type": "code",
   "execution_count": 33,
   "metadata": {},
   "outputs": [
    {
     "data": {
      "text/plain": [
       "0      3.0\n",
       "1      2.0\n",
       "2      1.0\n",
       "3      4.0\n",
       "4      5.0\n",
       "5      6.0\n",
       "6      8.0\n",
       "7      9.0\n",
       "8      7.0\n",
       "9     14.0\n",
       "10    10.0\n",
       "11    11.0\n",
       "12    12.0\n",
       "13    13.0\n",
       "14    15.0\n",
       "Name: Rank, dtype: float64"
      ]
     },
     "execution_count": 33,
     "metadata": {},
     "output_type": "execute_result"
    }
   ],
   "source": [
    "acc_model.loc[:,\"Rank\"]"
   ]
  },
  {
   "cell_type": "code",
   "execution_count": 34,
   "metadata": {},
   "outputs": [
    {
     "data": {
      "text/html": [
       "<div>\n",
       "<style scoped>\n",
       "    .dataframe tbody tr th:only-of-type {\n",
       "        vertical-align: middle;\n",
       "    }\n",
       "\n",
       "    .dataframe tbody tr th {\n",
       "        vertical-align: top;\n",
       "    }\n",
       "\n",
       "    .dataframe thead th {\n",
       "        text-align: right;\n",
       "    }\n",
       "</style>\n",
       "<table border=\"1\" class=\"dataframe\">\n",
       "  <thead>\n",
       "    <tr style=\"text-align: right;\">\n",
       "      <th></th>\n",
       "      <th>Team</th>\n",
       "      <th>RoadWins</th>\n",
       "      <th>RoadLosses</th>\n",
       "      <th>RoadRatio</th>\n",
       "      <th>HomeWins</th>\n",
       "      <th>HomeLosses</th>\n",
       "      <th>HomeRatio</th>\n",
       "      <th>TotalWins</th>\n",
       "      <th>TotalLosses</th>\n",
       "      <th>TotalGames</th>\n",
       "      <th>TotalRatio</th>\n",
       "      <th>AvgRatio</th>\n",
       "      <th>Rank</th>\n",
       "    </tr>\n",
       "  </thead>\n",
       "  <tbody>\n",
       "    <tr>\n",
       "      <th>0</th>\n",
       "      <td>Duke Blue Devils</td>\n",
       "      <td>8</td>\n",
       "      <td>2</td>\n",
       "      <td>0.833</td>\n",
       "      <td>9</td>\n",
       "      <td>2</td>\n",
       "      <td>1.298</td>\n",
       "      <td>17</td>\n",
       "      <td>4</td>\n",
       "      <td>21</td>\n",
       "      <td>2.132</td>\n",
       "      <td>0.102</td>\n",
       "      <td>3.0</td>\n",
       "    </tr>\n",
       "    <tr>\n",
       "      <th>1</th>\n",
       "      <td>North Carolina Tar Heels</td>\n",
       "      <td>9</td>\n",
       "      <td>0</td>\n",
       "      <td>1.685</td>\n",
       "      <td>8</td>\n",
       "      <td>3</td>\n",
       "      <td>0.575</td>\n",
       "      <td>17</td>\n",
       "      <td>3</td>\n",
       "      <td>20</td>\n",
       "      <td>2.260</td>\n",
       "      <td>0.113</td>\n",
       "      <td>2.0</td>\n",
       "    </tr>\n",
       "    <tr>\n",
       "      <th>2</th>\n",
       "      <td>Virginia Cavaliers</td>\n",
       "      <td>8</td>\n",
       "      <td>1</td>\n",
       "      <td>1.685</td>\n",
       "      <td>9</td>\n",
       "      <td>2</td>\n",
       "      <td>1.809</td>\n",
       "      <td>17</td>\n",
       "      <td>3</td>\n",
       "      <td>20</td>\n",
       "      <td>3.494</td>\n",
       "      <td>0.175</td>\n",
       "      <td>1.0</td>\n",
       "    </tr>\n",
       "    <tr>\n",
       "      <th>3</th>\n",
       "      <td>Florida State Seminoles</td>\n",
       "      <td>6</td>\n",
       "      <td>5</td>\n",
       "      <td>0.150</td>\n",
       "      <td>9</td>\n",
       "      <td>1</td>\n",
       "      <td>0.983</td>\n",
       "      <td>15</td>\n",
       "      <td>6</td>\n",
       "      <td>21</td>\n",
       "      <td>1.133</td>\n",
       "      <td>0.054</td>\n",
       "      <td>4.0</td>\n",
       "    </tr>\n",
       "    <tr>\n",
       "      <th>4</th>\n",
       "      <td>Virginia Tech Hokies</td>\n",
       "      <td>5</td>\n",
       "      <td>5</td>\n",
       "      <td>-0.060</td>\n",
       "      <td>8</td>\n",
       "      <td>2</td>\n",
       "      <td>1.114</td>\n",
       "      <td>13</td>\n",
       "      <td>7</td>\n",
       "      <td>20</td>\n",
       "      <td>1.054</td>\n",
       "      <td>0.053</td>\n",
       "      <td>5.0</td>\n",
       "    </tr>\n",
       "  </tbody>\n",
       "</table>\n",
       "</div>"
      ],
      "text/plain": [
       "                       Team  RoadWins  RoadLosses  RoadRatio  HomeWins  \\\n",
       "0          Duke Blue Devils         8           2      0.833         9   \n",
       "1  North Carolina Tar Heels         9           0      1.685         8   \n",
       "2        Virginia Cavaliers         8           1      1.685         9   \n",
       "3   Florida State Seminoles         6           5      0.150         9   \n",
       "4      Virginia Tech Hokies         5           5     -0.060         8   \n",
       "\n",
       "   HomeLosses  HomeRatio  TotalWins  TotalLosses  TotalGames  TotalRatio  \\\n",
       "0           2      1.298         17            4          21       2.132   \n",
       "1           3      0.575         17            3          20       2.260   \n",
       "2           2      1.809         17            3          20       3.494   \n",
       "3           1      0.983         15            6          21       1.133   \n",
       "4           2      1.114         13            7          20       1.054   \n",
       "\n",
       "   AvgRatio  Rank  \n",
       "0     0.102   3.0  \n",
       "1     0.113   2.0  \n",
       "2     0.175   1.0  \n",
       "3     0.054   4.0  \n",
       "4     0.053   5.0  "
      ]
     },
     "execution_count": 34,
     "metadata": {},
     "output_type": "execute_result"
    }
   ],
   "source": [
    "acc_model.head()"
   ]
  },
  {
   "cell_type": "code",
   "execution_count": 35,
   "metadata": {},
   "outputs": [],
   "source": [
    "accrankings1819 = acc_model[['Team','TotalWins','AvgRatio','Rank']]"
   ]
  },
  {
   "cell_type": "code",
   "execution_count": 36,
   "metadata": {},
   "outputs": [
    {
     "data": {
      "text/html": [
       "<div>\n",
       "<style scoped>\n",
       "    .dataframe tbody tr th:only-of-type {\n",
       "        vertical-align: middle;\n",
       "    }\n",
       "\n",
       "    .dataframe tbody tr th {\n",
       "        vertical-align: top;\n",
       "    }\n",
       "\n",
       "    .dataframe thead th {\n",
       "        text-align: right;\n",
       "    }\n",
       "</style>\n",
       "<table border=\"1\" class=\"dataframe\">\n",
       "  <thead>\n",
       "    <tr style=\"text-align: right;\">\n",
       "      <th></th>\n",
       "      <th>Team</th>\n",
       "      <th>TotalWins</th>\n",
       "      <th>AvgRatio</th>\n",
       "      <th>Rank</th>\n",
       "    </tr>\n",
       "  </thead>\n",
       "  <tbody>\n",
       "    <tr>\n",
       "      <th>0</th>\n",
       "      <td>Duke Blue Devils</td>\n",
       "      <td>17</td>\n",
       "      <td>0.102</td>\n",
       "      <td>3.0</td>\n",
       "    </tr>\n",
       "    <tr>\n",
       "      <th>1</th>\n",
       "      <td>North Carolina Tar Heels</td>\n",
       "      <td>17</td>\n",
       "      <td>0.113</td>\n",
       "      <td>2.0</td>\n",
       "    </tr>\n",
       "    <tr>\n",
       "      <th>2</th>\n",
       "      <td>Virginia Cavaliers</td>\n",
       "      <td>17</td>\n",
       "      <td>0.175</td>\n",
       "      <td>1.0</td>\n",
       "    </tr>\n",
       "    <tr>\n",
       "      <th>3</th>\n",
       "      <td>Florida State Seminoles</td>\n",
       "      <td>15</td>\n",
       "      <td>0.054</td>\n",
       "      <td>4.0</td>\n",
       "    </tr>\n",
       "    <tr>\n",
       "      <th>4</th>\n",
       "      <td>Virginia Tech Hokies</td>\n",
       "      <td>13</td>\n",
       "      <td>0.053</td>\n",
       "      <td>5.0</td>\n",
       "    </tr>\n",
       "  </tbody>\n",
       "</table>\n",
       "</div>"
      ],
      "text/plain": [
       "                       Team  TotalWins  AvgRatio  Rank\n",
       "0          Duke Blue Devils         17     0.102   3.0\n",
       "1  North Carolina Tar Heels         17     0.113   2.0\n",
       "2        Virginia Cavaliers         17     0.175   1.0\n",
       "3   Florida State Seminoles         15     0.054   4.0\n",
       "4      Virginia Tech Hokies         13     0.053   5.0"
      ]
     },
     "execution_count": 36,
     "metadata": {},
     "output_type": "execute_result"
    }
   ],
   "source": [
    "accrankings1819.head()"
   ]
  },
  {
   "cell_type": "code",
   "execution_count": 37,
   "metadata": {},
   "outputs": [],
   "source": [
    "accrankings1819 = accrankings1819.sort_values(by=\"Rank\", ascending=True)"
   ]
  },
  {
   "cell_type": "code",
   "execution_count": 38,
   "metadata": {},
   "outputs": [
    {
     "data": {
      "text/html": [
       "<div>\n",
       "<style scoped>\n",
       "    .dataframe tbody tr th:only-of-type {\n",
       "        vertical-align: middle;\n",
       "    }\n",
       "\n",
       "    .dataframe tbody tr th {\n",
       "        vertical-align: top;\n",
       "    }\n",
       "\n",
       "    .dataframe thead th {\n",
       "        text-align: right;\n",
       "    }\n",
       "</style>\n",
       "<table border=\"1\" class=\"dataframe\">\n",
       "  <thead>\n",
       "    <tr style=\"text-align: right;\">\n",
       "      <th></th>\n",
       "      <th>Team</th>\n",
       "      <th>TotalWins</th>\n",
       "      <th>AvgRatio</th>\n",
       "      <th>Rank</th>\n",
       "    </tr>\n",
       "  </thead>\n",
       "  <tbody>\n",
       "    <tr>\n",
       "      <th>2</th>\n",
       "      <td>Virginia Cavaliers</td>\n",
       "      <td>17</td>\n",
       "      <td>0.175</td>\n",
       "      <td>1.0</td>\n",
       "    </tr>\n",
       "    <tr>\n",
       "      <th>1</th>\n",
       "      <td>North Carolina Tar Heels</td>\n",
       "      <td>17</td>\n",
       "      <td>0.113</td>\n",
       "      <td>2.0</td>\n",
       "    </tr>\n",
       "    <tr>\n",
       "      <th>0</th>\n",
       "      <td>Duke Blue Devils</td>\n",
       "      <td>17</td>\n",
       "      <td>0.102</td>\n",
       "      <td>3.0</td>\n",
       "    </tr>\n",
       "    <tr>\n",
       "      <th>3</th>\n",
       "      <td>Florida State Seminoles</td>\n",
       "      <td>15</td>\n",
       "      <td>0.054</td>\n",
       "      <td>4.0</td>\n",
       "    </tr>\n",
       "    <tr>\n",
       "      <th>4</th>\n",
       "      <td>Virginia Tech Hokies</td>\n",
       "      <td>13</td>\n",
       "      <td>0.053</td>\n",
       "      <td>5.0</td>\n",
       "    </tr>\n",
       "  </tbody>\n",
       "</table>\n",
       "</div>"
      ],
      "text/plain": [
       "                       Team  TotalWins  AvgRatio  Rank\n",
       "2        Virginia Cavaliers         17     0.175   1.0\n",
       "1  North Carolina Tar Heels         17     0.113   2.0\n",
       "0          Duke Blue Devils         17     0.102   3.0\n",
       "3   Florida State Seminoles         15     0.054   4.0\n",
       "4      Virginia Tech Hokies         13     0.053   5.0"
      ]
     },
     "execution_count": 38,
     "metadata": {},
     "output_type": "execute_result"
    }
   ],
   "source": [
    "accrankings1819.head()"
   ]
  },
  {
   "cell_type": "code",
   "execution_count": 39,
   "metadata": {},
   "outputs": [],
   "source": [
    "accrankings1819.to_csv(\"ACCRankings1819.csv\")"
   ]
  },
  {
   "cell_type": "markdown",
   "metadata": {},
   "source": [
    "# Final Thoughts"
   ]
  },
  {
   "cell_type": "markdown",
   "metadata": {},
   "source": [
    "1. The best way I think to deal with the overfitting issue in the models is to add more data. I'd be curious to see the predictive value of an entire year or more of data.\n",
    "2. Since this exercise was limited to one explanatory variable I tried coming up with the best one I could based on the data\n",
    "3. It would be interesting to see a multivariate regression model to predict the rankings of each team"
   ]
  },
  {
   "cell_type": "code",
   "execution_count": null,
   "metadata": {},
   "outputs": [],
   "source": []
  }
 ],
 "metadata": {
  "kernelspec": {
   "display_name": "Python 3",
   "language": "python",
   "name": "python3"
  },
  "language_info": {
   "codemirror_mode": {
    "name": "ipython",
    "version": 3
   },
   "file_extension": ".py",
   "mimetype": "text/x-python",
   "name": "python",
   "nbconvert_exporter": "python",
   "pygments_lexer": "ipython3",
   "version": "3.7.3"
  }
 },
 "nbformat": 4,
 "nbformat_minor": 2
}
